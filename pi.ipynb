{
 "cells": [
  {
   "cell_type": "code",
   "execution_count": 1,
   "id": "94fcc238-4c98-4be7-ad3b-90b4df89f873",
   "metadata": {},
   "outputs": [],
   "source": [
    "class mass:\n",
    "    def __init__(self, velocity, mass=1):\n",
    "        self.mass = mass\n",
    "        self.velocity = velocity   \n",
    "        \n",
    "    def reflection(self):\n",
    "        self.velocity *= -1"
   ]
  },
  {
   "cell_type": "code",
   "execution_count": 2,
   "id": "2389ab0b-8d86-4ee7-a964-aa8eb1ad3b64",
   "metadata": {},
   "outputs": [],
   "source": [
    "def collision(mass1,mass2):\n",
    "    m1 = mass1.mass\n",
    "    m2 = mass2.mass\n",
    "    v1 = mass1.velocity\n",
    "    v2 = mass2.velocity\n",
    "    \n",
    "    mass1.velocity = (m1*v1-m2*v1+2*m2*v2)/(m1+m2)\n",
    "    mass2.velocity = (2*m1*v1-m1*v2+m2*v2)/(m1+m2)"
   ]
  },
  {
   "cell_type": "code",
   "execution_count": 3,
   "id": "1c2ee6eb-d381-4f0c-86e8-33b0aac1aa6c",
   "metadata": {},
   "outputs": [],
   "source": [
    "def pi(sigfig):\n",
    "    m = 100**sigfig\n",
    "    mass1 = mass(0,mass=1)\n",
    "    mass2 = mass(-1,mass=m)\n",
    "\n",
    "    count = 0\n",
    "    while mass2.velocity < mass1.velocity:\n",
    "        collision(mass1,mass2)\n",
    "        count += 1\n",
    "        if mass1.velocity < 0:\n",
    "            mass1.reflection()\n",
    "            count += 1\n",
    "    return count/10**(sigfig)"
   ]
  },
  {
   "cell_type": "code",
   "execution_count": 4,
   "id": "9c4269f1-6033-4398-bebf-fa1f1493f486",
   "metadata": {},
   "outputs": [
    {
     "data": {
      "text/plain": [
       "3.14159265"
      ]
     },
     "execution_count": 4,
     "metadata": {},
     "output_type": "execute_result"
    }
   ],
   "source": [
    "pi(8)"
   ]
  },
  {
   "cell_type": "code",
   "execution_count": null,
   "id": "595f1c70-2734-4595-857b-5fb995cc2c22",
   "metadata": {},
   "outputs": [],
   "source": []
  }
 ],
 "metadata": {
  "kernelspec": {
   "display_name": "desc-python",
   "language": "python",
   "name": "desc-python"
  },
  "language_info": {
   "codemirror_mode": {
    "name": "ipython",
    "version": 3
   },
   "file_extension": ".py",
   "mimetype": "text/x-python",
   "name": "python",
   "nbconvert_exporter": "python",
   "pygments_lexer": "ipython3",
   "version": "3.8.12"
  }
 },
 "nbformat": 4,
 "nbformat_minor": 5
}
